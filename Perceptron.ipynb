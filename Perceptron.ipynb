{
 "cells": [
  {
   "attachments": {},
   "cell_type": "markdown",
   "metadata": {},
   "source": [
    "# Grundlagen der Cognitive Science \n",
    "\n",
    "## Perceptron Project\n",
    "\n",
    "### Organisation\n",
    "\n",
    "Like the first homework assignment (essay), this programming project is part of the material required to pass the module. \n",
    "\n",
    "*Un*like the first homework assignment, this component will be performed in small groups (up to four people). You can work on these exercises in your groups, and help each other to develop and understand the material and code. \n",
    "\n",
    "Each group hands in a **single copy** of the notebook at the end of the semester (see the deadlines below). To hand in the notebook you **must** be a member of a group (defined in Moodle). Peer feedback will occur as part of the group work rather than in a separate dedicated week (as in the essay assignment).\n",
    "\n",
    "Note that different group members can still register for different exam dates (Abgabetermine) in TUCaN. However, if at least one group member registers to submit in the first Abgabetermin, this means that **the group notebook must be handed in at the first deadline**.\n",
    "Group members who decide to register for the second Abgabetermin can then just hand in their essay; the grade for the group notebook will be copied over.\n",
    "\n",
    "**DEADLINE: see TUCaN**\n",
    "\n",
    "If you miss the second deadline, you will not fulfil the necessary requirements of the module!\n",
    "\n",
    "\n",
    "### Procedure\n",
    "\n",
    "In the first week of this project (09.01) you will join a group. Please contact Prof. Wallis (thomas.wallis@tu-darmstadt.de) if there are any problems.\n",
    "\n",
    "The seminar time will mostly be used for you to work in your groups. Prof. Wallis will be available to answer questions. Of course, you may choose to work on the assignments in your own time.\n",
    "\n",
    "### Glossary\n",
    "\n",
    "- *training set*: the collection of data you will use to learn weights. Each separate data entry is sometimes called a *trial*, an *exemplar*, an *observation* or a *data point*.\n",
    "- *epoch*: One epoch corresponds to one complete pass through the training set. After one epoch, each example in the training set has had an opportunity to influence the model weights.\n",
    "\n",
    "### Numpy functions you may find useful\n",
    "\n",
    "- [numpy.array](https://numpy.org/doc/stable/reference/generated/numpy.array.html)\n",
    "- [numpy.inner](https://numpy.org/doc/stable/reference/generated/numpy.inner.html)\n",
    "- [numpy.ndarray.shape](https://numpy.org/doc/stable/reference/generated/numpy.ndarray.shape.html)\n",
    "- [numpy.empty](https://numpy.org/doc/stable/reference/generated/numpy.empty.html) and [numpy.empty_like](https://numpy.org/doc/stable/reference/generated/numpy.empty_like.html)"
   ]
  },
  {
   "attachments": {},
   "cell_type": "markdown",
   "metadata": {},
   "source": [
    "GROUP: \n",
    "\n",
    "GROUP MEMBERS (AND stud.tu-darmstadt.de EMAIL ADDRESS):\n",
    "\n"
   ]
  },
  {
   "attachments": {},
   "cell_type": "markdown",
   "metadata": {},
   "source": [
    "## Task 1 - Definition of a Perceptron\n",
    "\n",
    "### Task 1.1\n",
    "\n",
    "**Name and explain in your own words the most important elements of the perceptron. What are they? What function do they fulfill?**\n",
    "\n",
    "*delete this text and write your answer here*\n",
    "\n",
    "### Task 1.2\n",
    "\n",
    "**Write down the mathematical definition of a perceptron (Perceptron lecture slide 14) and relate the parts of the formal definition to the most important elements you wrote about in 1.1 above.**\n",
    "\n",
    "*delete this text and write your answer here*"
   ]
  },
  {
   "attachments": {},
   "cell_type": "markdown",
   "metadata": {},
   "source": [
    "## Task 2 - Determine weights for logical rules\n",
    "\n",
    "Imagine a perceptron that has two inputs A and B. \n",
    "These can take values of either 1 (True) or 0 (False).\n",
    "The perceptron should \"fire\" (return a 1) when the rule is satisfied, or else not fire (return a 0).\n",
    "\n",
    "Determine the weights $w_1$ (for input A) and $w_2$ (for input B) and bias $\\theta$ to encode the following rules. You don't need to write code here; the goal is for you to think logically about what the weights mean. As a solution, simply filling in the values for the weights below is sufficient.\n",
    "\n",
    "### Task 2.1.\n",
    "\n",
    "$(A \\wedge B) \\vee (\\neg A \\wedge B)$"
   ]
  },
  {
   "cell_type": "raw",
   "metadata": {},
   "source": [
    "theta: 0\n",
    "w_1: 0\n",
    "w_2: 1"
   ]
  },
  {
   "attachments": {},
   "cell_type": "markdown",
   "metadata": {},
   "source": [
    "### Task 2.2. \n",
    "\n",
    "$(A \\wedge B) \\vee (\\neg A \\wedge B) \\vee (A \\wedge \\neg B)$"
   ]
  },
  {
   "cell_type": "raw",
   "metadata": {},
   "source": [
    "theta: 0\n",
    "w_1: 1\n",
    "w_2: 1"
   ]
  },
  {
   "attachments": {},
   "cell_type": "markdown",
   "metadata": {},
   "source": [
    "## Task 3 - how to train your Perceptron\n",
    "\n",
    "**Implement a Perceptron that learns the logical rule AND by training on data.**\n",
    "\n",
    "To do this, you will sequentially build up a series of functions that will allow you to define and train a perceptron.\n"
   ]
  },
  {
   "cell_type": "code",
   "execution_count": 57,
   "metadata": {},
   "outputs": [],
   "source": [
    "from typing import Optional, Tuple\n",
    "\n",
    "import matplotlib.pyplot as plt\n",
    "import numpy as np\n",
    "import inspect"
   ]
  },
  {
   "attachments": {},
   "cell_type": "markdown",
   "metadata": {},
   "source": [
    "The cell below contains a function definition that currently does nothing (it just contains a `pass`) statement.\n",
    "However, I've provided detail on the names and types of the inputs, and a docstring that describes what the function should do.\n",
    "Read the function definition and the docstring, then look at the next cell. "
   ]
  },
  {
   "cell_type": "code",
   "execution_count": 58,
   "metadata": {},
   "outputs": [],
   "source": [
    "def compute_error_rate(targets: np.array, output: np.array) -> float:\n",
    "    \"\"\"\n",
    "    Compute the error proportion\n",
    "\n",
    "    This function computes the proportion of errors given\n",
    "    a vector of targets and a vector of outputs (predictions\n",
    "    for the target label). Targets and outputs are assumed to be\n",
    "    binary (either 0 or 1).\n",
    "\n",
    "    Hint: there is no need to use a \"for\" loop in this function.\n",
    "\n",
    "    Args:\n",
    "        targets (np.array): A numpy array containing the binary true labels.\n",
    "        output (np.array): A numpy array containing the predictions.\n",
    "\n",
    "    Returns:\n",
    "        float: The proportion of errors between output and target.\n",
    "    \"\"\"\n",
    "    return np.sum  (targets!=output) / len(targets)"
   ]
  },
  {
   "attachments": {},
   "cell_type": "markdown",
   "metadata": {},
   "source": [
    "The cell below defines a \"test\": a function that calls the `compute_error_rate` function above, provides some known inputs to the function, and uses an `assert` statement to ask whether the output of the function is equal to a known value.\n",
    "If the function works as intended, the test will \"pass\" -- meaning it will not cause an error.\n",
    "If the function is not working as intended, and the `assert` statement is false, then the function will yield an `AssertionError`.\n",
    "\n",
    "These `AssertionError`s don't contain much information about what caused the error.\n",
    "To help you figure out what is failing, I added simple result printing to the tests, to show the values returned by your functions. Compare these results to the target result (the value tested in `assert`), then modify the function until it produces the desired result (i.e. causes no `AssertionError`). \n",
    "\n",
    "**Remember to re-run the cell that defines the function** -- Python will use the old version until you explicitly redefine the function.\n",
    "\n",
    "Once the `compute_error_rate` function works as intended, running the cell below should produce no output.\n",
    "(Remember: if you change the function, you will need to re-run the cell that defines the function before you re-run the test).\n",
    "\n",
    "Do not modify the test cell."
   ]
  },
  {
   "cell_type": "code",
   "execution_count": 59,
   "metadata": {},
   "outputs": [],
   "source": [
    "# a helper function to make tests easier to understand.\n",
    "# do not modify.\n",
    "def test_helper(result, result_name=\"result\") -> None:\n",
    "    previous_frame = inspect.currentframe().f_back\n",
    "    caller = inspect.getframeinfo(previous_frame)\n",
    "    print(f\"{caller[2]} {result_name} is {result}\\n\")"
   ]
  },
  {
   "cell_type": "code",
   "execution_count": 60,
   "metadata": {},
   "outputs": [
    {
     "name": "stdout",
     "output_type": "stream",
     "text": [
      "test_compute_error_rate result is 0.4\n",
      "\n"
     ]
    }
   ],
   "source": [
    "# do not modify this cell\n",
    "def test_compute_error_rate():\n",
    "    result = compute_error_rate(\n",
    "        targets=[0.0, 1.0, 1.0, 0.0, 1.0],\n",
    "        output=np.array([1.0, 1.0, 1.0, 0.0, 0.0]),\n",
    "    )\n",
    "    test_helper(result)\n",
    "    assert result == 0.4\n",
    "\n",
    "\n",
    "test_compute_error_rate()"
   ]
  },
  {
   "attachments": {},
   "cell_type": "markdown",
   "metadata": {},
   "source": [
    "Now that you have the idea of developing functions and testing them, complete the remaining functions below.\n",
    "These will provide you with the tools to train perceptrons on any data set, which we will apply further down."
   ]
  },
  {
   "cell_type": "code",
   "execution_count": 61,
   "metadata": {},
   "outputs": [],
   "source": [
    "def compute_activation(inputs: np.array, weights: np.array, bias: float = 0.0) -> float:\n",
    "    \"\"\"\n",
    "    Compute the activation of the Perceptron\n",
    "\n",
    "    This function computes the activation of the\n",
    "    Perceptron with given inputs, weights and bias.\n",
    "    The activation is the sum of the weighted inputs\n",
    "    plus the bias term.\n",
    "\n",
    "    Hint: try not to use a `for` loop in this function.\n",
    "\n",
    "    Args:\n",
    "        inputs (np.array): A numpy array containing the inputs to the perceptron,\n",
    "                           assumed to be a vector containing one trial with\n",
    "                           number of dimensions == len(inputs).\n",
    "        weights (np.array): A numpy array containing the Perceptron's weights for each\n",
    "                            input dimension. Should contain one entry per dimension.\n",
    "        bias (float): The value of the Perceptron's bias term. A scalar. Defaults to 0.0.\n",
    "\n",
    "    Returns:\n",
    "        float: A float containing the Perceptron's activation.\n",
    "    \"\"\"\n",
    "    return inputs @ weights +bias"
   ]
  },
  {
   "cell_type": "code",
   "execution_count": 62,
   "metadata": {},
   "outputs": [
    {
     "name": "stdout",
     "output_type": "stream",
     "text": [
      "test_compute_activation_1 result is 0.75\n",
      "\n",
      "test_compute_activation_2 result is 0.25\n",
      "\n",
      "test_compute_activation_3 result is 0.75\n",
      "\n"
     ]
    }
   ],
   "source": [
    "def test_compute_activation_1():\n",
    "    result = compute_activation(\n",
    "        inputs=np.array([0.0, 1.0, 0.5]), weights=np.array([1.0, 0.5, 0.5])\n",
    "    )\n",
    "    test_helper(result)\n",
    "    assert result == 0.75\n",
    "\n",
    "\n",
    "def test_compute_activation_2():\n",
    "    result = compute_activation(\n",
    "        inputs=np.array([0.0, 0.0, 0.5]), weights=np.array([1.0, 0.5, 0.5])\n",
    "    )\n",
    "    test_helper(result)\n",
    "    assert result == 0.25\n",
    "\n",
    "\n",
    "def test_compute_activation_3():\n",
    "    result = compute_activation(\n",
    "        inputs=np.array([0.0, 0.0, 0.5]), weights=np.array([1.0, 0.5, 0.5]), bias=0.5\n",
    "    )\n",
    "    test_helper(result)\n",
    "    assert result == 0.75\n",
    "\n",
    "\n",
    "test_compute_activation_1()\n",
    "test_compute_activation_2()\n",
    "test_compute_activation_3()"
   ]
  },
  {
   "cell_type": "code",
   "execution_count": 63,
   "metadata": {},
   "outputs": [],
   "source": [
    "def predict(inputs: np.array, weights: np.array, bias: float = 0.0) -> float:\n",
    "    \"\"\"\n",
    "    Compute the output of a Perceptron\n",
    "\n",
    "    This function computes the output of a Perceptron with the provided weights and\n",
    "    bias.\n",
    "\n",
    "    Args:\n",
    "        inputs (np.array): A numpy array containing the inputs to the perceptron,\n",
    "                           assumed to be a vector containing one trial with\n",
    "                           number of dimensions == len(inputs).\n",
    "        weights (np.array): A numpy array containing the Perceptron's weights for each\n",
    "                            input dimension. Should contain one entry per dimension.\n",
    "        bias (float): The value of the Perceptron's bias term. A scalar. Defaults to 0.0.\n",
    "\n",
    "    Returns:\n",
    "        float: A float containing the Perceptron's output.\n",
    "    \"\"\"\n",
    "    if compute_activation(inputs,weights,bias)>0:\n",
    "        return 1.0\n",
    "    else:\n",
    "        return 0.0"
   ]
  },
  {
   "cell_type": "code",
   "execution_count": 64,
   "metadata": {},
   "outputs": [
    {
     "name": "stdout",
     "output_type": "stream",
     "text": [
      "test_predict_1 result is 1.0\n",
      "\n",
      "test_predict_2 result is 0.0\n",
      "\n"
     ]
    }
   ],
   "source": [
    "def test_predict_1():\n",
    "    result = predict(\n",
    "        inputs=np.array([0.0, 1.0, 0.5]),\n",
    "        weights=np.array([0.1, -0.2, 0.5]),\n",
    "        bias=0.4,\n",
    "    )\n",
    "    test_helper(result)\n",
    "    assert result == 1.0\n",
    "\n",
    "\n",
    "def test_predict_2():\n",
    "    result = predict(\n",
    "        inputs=np.array([0.0, 0.0, -1.0]),\n",
    "        weights=np.array([0.1, -0.2, 0.5]),\n",
    "        bias=0.4,\n",
    "    )\n",
    "    test_helper(result)\n",
    "    assert result == 0.0\n",
    "\n",
    "\n",
    "test_predict_1()\n",
    "test_predict_2()"
   ]
  },
  {
   "cell_type": "code",
   "execution_count": 65,
   "metadata": {},
   "outputs": [],
   "source": [
    "def compute_delta_w(\n",
    "    inputs: np.array,\n",
    "    target: float,\n",
    "    output: float,\n",
    ") -> Tuple[np.array, float]:\n",
    "    \"\"\"\n",
    "    Compute the change in weights and bias\n",
    "\n",
    "    This function computes the change in weights and bias\n",
    "    according to the learning rule for the Perceptron.\n",
    "\n",
    "    Args:\n",
    "        inputs (np.array): A numpy array containing the inputs to the perceptron,\n",
    "                           assumed to be a vector containing one trial with\n",
    "                           number of dimensions == len(inputs).\n",
    "        target (float): The correct output label for this trial. A scalar.\n",
    "        output (float): The output of the Perceptron (its prediction for the\n",
    "                           target label). Sometimes called y_hat in notation.\n",
    "\n",
    "    Returns:\n",
    "        Tuple[np.array, float]: A two-element Tuple containing (1) the delta for the\n",
    "                            weights and (2) the delta for the bias term.\n",
    "    \"\"\"\n",
    "    return (np.array((target-output)*inputs),target-output)"
   ]
  },
  {
   "cell_type": "code",
   "execution_count": 66,
   "metadata": {},
   "outputs": [
    {
     "name": "stdout",
     "output_type": "stream",
     "text": [
      "test_compute_delta_w_1 delta_w is [1. 1.]\n",
      "\n",
      "test_compute_delta_w_1 delta_bias is 1.0\n",
      "\n",
      "test_compute_delta_w_2 delta_w is [0. 0.]\n",
      "\n",
      "test_compute_delta_w_2 delta_bias is 0.0\n",
      "\n"
     ]
    }
   ],
   "source": [
    "def test_compute_delta_w_1():\n",
    "    delta_w, delta_bias = compute_delta_w(\n",
    "        target=1.0, output=0.0, inputs=np.array([1.0, 1.0])\n",
    "    )\n",
    "    test_helper(delta_w, result_name=\"delta_w\")\n",
    "    test_helper(delta_bias, result_name=\"delta_bias\")\n",
    "    assert np.all(delta_w == np.array([1.0, 1.0]))\n",
    "    assert delta_bias == 1.0\n",
    "\n",
    "\n",
    "def test_compute_delta_w_2():\n",
    "    delta_w, delta_bias = compute_delta_w(\n",
    "        target=1.0, output=1.0, inputs=np.array([1.0, 1.0])\n",
    "    )\n",
    "    test_helper(delta_w, result_name=\"delta_w\")\n",
    "    test_helper(delta_bias, result_name=\"delta_bias\")\n",
    "    assert np.all(delta_w == np.array([0.0, 0.0]))\n",
    "    assert delta_bias == 0.0\n",
    "\n",
    "\n",
    "test_compute_delta_w_1()\n",
    "test_compute_delta_w_2()"
   ]
  },
  {
   "cell_type": "code",
   "execution_count": 67,
   "metadata": {},
   "outputs": [],
   "source": [
    "def update_weights(\n",
    "    inputs: np.array,\n",
    "    target: float,\n",
    "    output: float,\n",
    "    weights: np.array,\n",
    "    bias: float,\n",
    ") -> Tuple[np.array, float]:\n",
    "    \"\"\"\n",
    "    Update the Perceptron's weights and bias\n",
    "\n",
    "    This function computes the new weights and bias for\n",
    "    the perceptron based on its prediction and the true class\n",
    "    label, using the Perceptron's learning rule.\n",
    "\n",
    "    Args:\n",
    "        inputs (np.array): A numpy array containing the inputs to the perceptron,\n",
    "                           assumed to be a vector containing one trial with\n",
    "                           number of dimensions == len(inputs).\n",
    "        target (float): The correct output label for this trial. A scalar.\n",
    "        output (float): The output of the Perceptron (its prediction for the\n",
    "                           target label). Sometimes called y_hat in notation.\n",
    "        inputs (np.array): A numpy array containing the inputs to the perceptron,\n",
    "                           assumed to be a vector containing one trial with\n",
    "                           number of dimensions == len(inputs).\n",
    "        weights (np.array): A numpy array containing the Perceptron's weights for each\n",
    "                            input dimension. Should contain one entry per dimension.\n",
    "        bias (float): The value of the Perceptron's bias term. A scalar. Defaults to 0.0.\n",
    "\n",
    "    Returns:\n",
    "        Tuple[np.array, float]: A two-element Tuple containing (1) the updated\n",
    "                            weights and (2) the updated bias.\n",
    "    \"\"\"\n",
    "    delta_weights, delta_bias= compute_delta_w(inputs,target,output)\n",
    "   \n",
    "\n",
    "    return(weights+delta_weights,bias+delta_bias)"
   ]
  },
  {
   "cell_type": "code",
   "execution_count": 68,
   "metadata": {},
   "outputs": [
    {
     "name": "stdout",
     "output_type": "stream",
     "text": [
      "test_update_weights_1 delta_w is [0.]\n",
      "\n",
      "test_update_weights_1 delta_bias is 0.0\n",
      "\n",
      "test_update_weights_2 delta_w is [1.]\n",
      "\n",
      "test_update_weights_2 delta_bias is 1.0\n",
      "\n",
      "test_update_weights_3 delta_w is [0. 1. 1. 1.]\n",
      "\n",
      "test_update_weights_3 delta_bias is 1.0\n",
      "\n"
     ]
    }
   ],
   "source": [
    "def test_update_weights_1():\n",
    "    delta_w, delta_bias = update_weights(\n",
    "        weights=np.array([0.0]),\n",
    "        bias=0.0,\n",
    "        target=1.0,\n",
    "        output=1.0,\n",
    "        inputs=np.array([1.0]),\n",
    "    )\n",
    "    test_helper(delta_w, result_name=\"delta_w\")\n",
    "    test_helper(delta_bias, result_name=\"delta_bias\")\n",
    "    assert delta_w == np.array([0.0])\n",
    "    assert delta_bias == 0.0\n",
    "\n",
    "\n",
    "def test_update_weights_2():\n",
    "    delta_w, delta_bias = update_weights(\n",
    "        weights=np.array([0.0]),\n",
    "        bias=0.0,\n",
    "        target=1.0,\n",
    "        output=0.0,\n",
    "        inputs=np.array([1.0]),\n",
    "    )\n",
    "    test_helper(delta_w, result_name=\"delta_w\")\n",
    "    test_helper(delta_bias, result_name=\"delta_bias\")\n",
    "    assert delta_w == np.array([1.0])\n",
    "    assert delta_bias == 1.0\n",
    "\n",
    "\n",
    "def test_update_weights_3():\n",
    "    delta_w, delta_bias = update_weights(\n",
    "        weights=np.array([0.0, 0.0, 0.0, 1.0]),\n",
    "        bias=0.0,\n",
    "        target=1.0,\n",
    "        output=0.0,\n",
    "        inputs=np.array([0.0, 1.0, 1.0, 0.0]),\n",
    "    )\n",
    "    test_helper(delta_w, result_name=\"delta_w\")\n",
    "    test_helper(delta_bias, result_name=\"delta_bias\")\n",
    "    assert np.all(delta_w == np.array([0.0, 1.0, 1.0, 1.0]))\n",
    "    assert delta_bias == 1.0\n",
    "\n",
    "\n",
    "test_update_weights_1()\n",
    "test_update_weights_2()\n",
    "test_update_weights_3()"
   ]
  },
  {
   "cell_type": "code",
   "execution_count": 69,
   "metadata": {},
   "outputs": [],
   "source": [
    "def train_one_trial(\n",
    "    inputs: np.array, target: float, weights: np.array, bias: float = 0.0\n",
    ") -> Tuple[np.array, float, float]:\n",
    "    \"\"\"\n",
    "    Train a Perceptron for a single trial (data example)\n",
    "\n",
    "    This function computes the output for the Perceptron based on the provided\n",
    "    inputs, weights and biases, then returns updated weights based on the\n",
    "    Perceptron's learning rule.\n",
    "\n",
    "    **Note that the output is defined by the perceptron's state *before*\n",
    "    the weight update.**\n",
    "\n",
    "    Args:\n",
    "        inputs (np.array): A numpy array containing the inputs to the perceptron,\n",
    "                           assumed to be a vector containing one trial with\n",
    "                           number of dimensions == len(inputs).\n",
    "        target (float): The correct output label for this trial. A scalar.\n",
    "        weights (np.array): As in train_one_epoch.\n",
    "        bias (float, optional): As in train_one_epock. Defaults to 0.0.\n",
    "\n",
    "    Returns:\n",
    "        Tuple[np.array, float, float]: The results of this epoch output as\n",
    "                                 a Tuple of length 3 containing\n",
    "                                 (1) the weights after training,\n",
    "                                 (2) the bias after training,\n",
    "                                 (3) the output of the perceptron for this trial\n",
    "    \"\"\"\n",
    "    output=predict(inputs,weights,bias)\n",
    "    weights,bias=update_weights(inputs,target,output,weights,bias)\n",
    "\n",
    "    return (weights,bias,output)"
   ]
  },
  {
   "cell_type": "code",
   "execution_count": 70,
   "metadata": {},
   "outputs": [
    {
     "name": "stdout",
     "output_type": "stream",
     "text": [
      "test_train_one_trial_1 weights is [0. 1.]\n",
      "\n",
      "test_train_one_trial_1 bias is 1.0\n",
      "\n",
      "test_train_one_trial_1 output is 0.0\n",
      "\n",
      "test_train_one_trial_2 weights is [0. 1.]\n",
      "\n",
      "test_train_one_trial_2 bias is 0.0\n",
      "\n",
      "test_train_one_trial_2 output is 1.0\n",
      "\n",
      "test_train_one_trial_3 weights is [0. 1.]\n",
      "\n",
      "test_train_one_trial_3 bias is -1.0\n",
      "\n",
      "test_train_one_trial_3 output is 1.0\n",
      "\n"
     ]
    }
   ],
   "source": [
    "def test_train_one_trial_1():\n",
    "    weights, bias, output = train_one_trial(\n",
    "        inputs=np.array([0.0, 1.0]), target=1.0, weights=np.array([0.0, 0.0])\n",
    "    )\n",
    "    test_helper(weights, result_name=\"weights\")\n",
    "    test_helper(bias, result_name=\"bias\")\n",
    "    test_helper(output, result_name=\"output\")\n",
    "    assert np.all(weights == np.array([0.0, 1.0]))\n",
    "    assert bias == 1.0\n",
    "    assert output == 0.0\n",
    "\n",
    "\n",
    "def test_train_one_trial_2():\n",
    "    weights, bias, output = train_one_trial(\n",
    "        inputs=np.array([0.0, 1.0]), target=1.0, weights=np.array([0.0, 1.0])\n",
    "    )\n",
    "    test_helper(weights, result_name=\"weights\")\n",
    "    test_helper(bias, result_name=\"bias\")\n",
    "    test_helper(output, result_name=\"output\")\n",
    "    assert np.all(weights == np.array([0.0, 1.0]))\n",
    "    assert bias == 0.0\n",
    "    assert output == 1.0\n",
    "\n",
    "\n",
    "def test_train_one_trial_3():\n",
    "    weights, bias, output = train_one_trial(\n",
    "        inputs=np.array([1.0, 0.0]), target=0.0, weights=np.array([1.0, 1.0])\n",
    "    )\n",
    "    test_helper(weights, result_name=\"weights\")\n",
    "    test_helper(bias, result_name=\"bias\")\n",
    "    test_helper(output, result_name=\"output\")\n",
    "    assert np.all(weights == np.array([0.0, 1.0]))\n",
    "    assert bias == -1.0\n",
    "    assert output == 1.0\n",
    "\n",
    "\n",
    "test_train_one_trial_1()\n",
    "test_train_one_trial_2()\n",
    "test_train_one_trial_3()"
   ]
  },
  {
   "cell_type": "code",
   "execution_count": 71,
   "metadata": {},
   "outputs": [],
   "source": [
    "def train_one_epoch(\n",
    "    inputs: np.array,\n",
    "    targets: np.array,\n",
    "    weights: np.array,\n",
    "    bias: float,\n",
    "    verbose: bool = True,\n",
    ") -> Tuple[np.array, float, np.array, float]:\n",
    "    \"\"\"\n",
    "    Train a Perceptron for one epoch\n",
    "\n",
    "    This function should train the weights and biases of\n",
    "    a perceptron over one epoch (one run through all the data).\n",
    "\n",
    "    The weights and bias will be updated *after* each training\n",
    "    example (data point or trial). This means that the average\n",
    "    error computed over the epoch does not reflect the error\n",
    "    that will result from the final set of weights. For this,\n",
    "    a new epoch is required.\n",
    "\n",
    "    Note that definitions of input arguments provided below\n",
    "    are common to other functions unless noted otherwise.\n",
    "\n",
    "    Args:\n",
    "        inputs (np.array): A numpy array containing the inputs to the perceptron.\n",
    "                           The inputs are often called \"X\" in notation. If a\n",
    "                           matrix is passed, the rows are assumed to be \"trials\"\n",
    "                           (data examples) and columns are different input dimensions\n",
    "                           x_1, x_2 etc. If a vector is passed, it is assumed to be\n",
    "                           one trial with number of dimensions == len(inputs).\n",
    "        targets (np.array): The correct output labels. Often called \"Y\" in notation.\n",
    "                            There should be one entry per row of X if X is a matrix.\n",
    "        weights (np.array): A numpy array containing the Perceptron's weights for each\n",
    "                            input dimension. Should contain one entry per dimension.\n",
    "        bias (float): The value of the Perceptron's bias term. A scalar.\n",
    "        verbose (bool, optional): If True, print information about the results of training\n",
    "                                  in this epoch, including weights and bias at the end of\n",
    "                                  the epoch, and also the overall error in the epoch.\n",
    "                                  Defaults to True.\n",
    "\n",
    "    Returns:\n",
    "        Tuple[np.array, float, np.array, float]: The results of this epoch output as\n",
    "                                 a Tuple of length 4 containing\n",
    "                                 (1) the weights after training,\n",
    "                                 (2) the bias after training,\n",
    "                                 (3) the outputs of the perceptron on each trial and\n",
    "                                 (4) the overall error rate for the epoch.\n",
    "    \"\"\"\n",
    "    outputs= np.zeros(len(targets))\n",
    "\n",
    "    for i in range(len(inputs)):\n",
    "        # output = predict(inputs[i], weights, bias)\n",
    "        # weights, bias = update_weights(inputs[i], targets[i], output, weights, bias)\n",
    "\n",
    "        weights, bias, output =train_one_trial(inputs[i], targets[i], weights, bias)\n",
    "        outputs[i]=output\n",
    "\n",
    "    error_rate=compute_error_rate(targets,outputs)\n",
    "\n",
    "    if verbose:\n",
    "            print(\"weights: \",weights)\n",
    "            print(\"bias: \", bias)\n",
    "            print(\"error rate: \",error_rate) \n",
    "\n",
    "    return(weights,bias,outputs,error_rate)       "
   ]
  },
  {
   "cell_type": "code",
   "execution_count": 72,
   "metadata": {},
   "outputs": [
    {
     "name": "stdout",
     "output_type": "stream",
     "text": [
      "test_train_one_epoch_1 weights is [0.  0.5]\n",
      "\n",
      "test_train_one_epoch_1 bias is 1.0\n",
      "\n",
      "test_train_one_epoch_1 epoch_outputs is [0. 1.]\n",
      "\n",
      "test_train_one_epoch_1 epoch_error is 0.5\n",
      "\n",
      "test_train_one_epoch_2 weights is [0.5 0.5]\n",
      "\n",
      "test_train_one_epoch_2 bias is 0.0\n",
      "\n",
      "test_train_one_epoch_2 epoch_outputs is [0. 1.]\n",
      "\n",
      "test_train_one_epoch_2 epoch_error is 1.0\n",
      "\n"
     ]
    }
   ],
   "source": [
    "def test_train_one_epoch_1():\n",
    "    inputs = np.array([[0.0, 0.5], [0.5, 0.0]])\n",
    "    targets = np.array([1.0, 1.0])\n",
    "    weights, bias, epoch_outputs, epoch_error = train_one_epoch(\n",
    "        inputs=inputs,\n",
    "        targets=targets,\n",
    "        weights=np.array([0.0, 0.0]),\n",
    "        bias=0.0,\n",
    "        verbose=False,\n",
    "    )\n",
    "    test_helper(weights, result_name=\"weights\")\n",
    "    test_helper(bias, result_name=\"bias\")\n",
    "    test_helper(epoch_outputs, result_name=\"epoch_outputs\")\n",
    "    test_helper(epoch_error, result_name=\"epoch_error\")\n",
    "    assert np.all(weights == np.array([0.0, 0.5]))\n",
    "    assert np.all(epoch_outputs == np.array([0.0, 1.0]))\n",
    "    assert epoch_error == 0.5\n",
    "    assert bias == 1.0\n",
    "\n",
    "\n",
    "def test_train_one_epoch_2():\n",
    "    inputs = np.array([[1.0, 0.5], [0.5, 0.0]])\n",
    "    targets = np.array([1.0, 0.0])\n",
    "    weights, bias, epoch_outputs, epoch_error = train_one_epoch(\n",
    "        inputs=inputs,\n",
    "        targets=targets,\n",
    "        weights=np.array([0.0, 0.0]),\n",
    "        bias=0.0,\n",
    "        verbose=False,\n",
    "    )\n",
    "    test_helper(weights, result_name=\"weights\")\n",
    "    test_helper(bias, result_name=\"bias\")\n",
    "    test_helper(epoch_outputs, result_name=\"epoch_outputs\")\n",
    "    test_helper(epoch_error, result_name=\"epoch_error\")\n",
    "    assert np.all(weights == np.array([0.5, 0.5]))\n",
    "    assert np.all(epoch_outputs == np.array([0.0, 1.0]))\n",
    "    assert epoch_error == 1.0\n",
    "    assert bias == 0.0\n",
    "\n",
    "\n",
    "test_train_one_epoch_1()\n",
    "test_train_one_epoch_2()"
   ]
  },
  {
   "attachments": {},
   "cell_type": "markdown",
   "metadata": {},
   "source": [
    "### Task 3.1\n",
    "\n",
    "Using the functions above, implement a perceptron that can learn the logical rule AND. \n",
    "\n",
    "First, define a data set (using numpy arrays) that defines the desired rule. \n",
    "For the inputs, each row should be a data exemplar and each column a variable / dimension (i.e. $x_1$, $x_2$, etc).\n"
   ]
  },
  {
   "cell_type": "code",
   "execution_count": 73,
   "metadata": {},
   "outputs": [],
   "source": [
    "# In this cell, you should initialise a batch of data\n",
    "# that exemplifies the desired rule. Specify a numpy array\n",
    "# of input values stored in the variable \"inputs\", where each row is a data point and each column\n",
    "# is an input (A and B).\n",
    "\n",
    "# inputs = np.array()\n",
    "\n",
    "# Now specify a numpy array targets (stored in \"targets\"), which contains the target labels\n",
    "# (\"correct decisions\") for each row specified in inputs.\n",
    "\n",
    "# targets = np.array()\n",
    "\n",
    "inputs=np.array([[0,0],[0,1],[1,0],[1,1]])\n",
    "targets=np.array([0,0,0,1])\n"
   ]
  },
  {
   "attachments": {},
   "cell_type": "markdown",
   "metadata": {},
   "source": [
    "### Task 3.2\n",
    "\n",
    "Initialise the weights and bias terms to be all zero, and compute the initial predictions and errors using the `predict` and `compute_error_rate` functions defined above. Print the results. \n"
   ]
  },
  {
   "cell_type": "code",
   "execution_count": 74,
   "metadata": {},
   "outputs": [
    {
     "name": "stdout",
     "output_type": "stream",
     "text": [
      "Initial weights:  [0. 0.]\n",
      "Initial bias:  0.0\n",
      "Initial outputs:  [0. 0. 0. 0.]\n",
      "Initial error rate:  0.25\n"
     ]
    }
   ],
   "source": [
    "# write your solution here.\n",
    "\n",
    "weights= np.zeros(inputs.shape[1])\n",
    "bias= 0.0\n",
    "outputs= np.array([predict(input,weights,bias) for input in inputs])\n",
    "error_rate= compute_error_rate(targets,outputs)\n",
    "print(\"Initial weights: \", weights)\n",
    "print(\"Initial bias: \", bias)\n",
    "print(\"Initial outputs: \", outputs)\n",
    "print(\"Initial error rate: \", error_rate)\n"
   ]
  },
  {
   "attachments": {},
   "cell_type": "markdown",
   "metadata": {},
   "source": [
    "### Task 3.3\n",
    "\n",
    "Train the model for 10 epochs, by writing a `for` loop over the function `train_one_epoch`."
   ]
  },
  {
   "cell_type": "code",
   "execution_count": 75,
   "metadata": {},
   "outputs": [
    {
     "name": "stdout",
     "output_type": "stream",
     "text": [
      "weights:  [1. 1.]\n",
      "bias:  1.0\n",
      "error rate:  0.25\n",
      "weights:  [2. 1.]\n",
      "bias:  0.0\n",
      "error rate:  0.75\n",
      "weights:  [2. 1.]\n",
      "bias:  -1.0\n",
      "error rate:  0.75\n",
      "weights:  [2. 2.]\n",
      "bias:  -1.0\n",
      "error rate:  0.5\n",
      "weights:  [2. 1.]\n",
      "bias:  -2.0\n",
      "error rate:  0.25\n",
      "weights:  [2. 1.]\n",
      "bias:  -2.0\n",
      "error rate:  0.0\n",
      "weights:  [2. 1.]\n",
      "bias:  -2.0\n",
      "error rate:  0.0\n",
      "weights:  [2. 1.]\n",
      "bias:  -2.0\n",
      "error rate:  0.0\n",
      "weights:  [2. 1.]\n",
      "bias:  -2.0\n",
      "error rate:  0.0\n",
      "weights:  [2. 1.]\n",
      "bias:  -2.0\n",
      "error rate:  0.0\n"
     ]
    }
   ],
   "source": [
    "# write your solution here.\n",
    "\n",
    "for i in range(10):\n",
    "    weights,bias,outputs,error_rate=train_one_epoch(inputs,targets,weights,bias)"
   ]
  },
  {
   "attachments": {},
   "cell_type": "markdown",
   "metadata": {},
   "source": [
    "Answer the following questions in the markdown cell below:\n",
    "\n",
    "1. What is the final performance of the model? \n",
    "2. What are the final weights? \n",
    "3. How does the performance change over epochs? \n",
    "4. Can a perceptron learn the logical rule AND?"
   ]
  },
  {
   "attachments": {},
   "cell_type": "markdown",
   "metadata": {},
   "source": [
    "*write your answer here*"
   ]
  },
  {
   "attachments": {},
   "cell_type": "markdown",
   "metadata": {},
   "source": [
    "### Task 3.4\n",
    "\n",
    "Training the Perceptron as above is deterministic: starting with all weights set to zero and looping over the dataset N times produces the same result each time. (Confirm this by re-running the cells above multiple times -- remember to set the weights back to zero).\n",
    "\n",
    "Now, we add randomness in the training by shuffling the order of the training exemplars on each epoch. The first step to do this is to write a function to shuffle the input and target arrays:"
   ]
  },
  {
   "cell_type": "code",
   "execution_count": 76,
   "metadata": {},
   "outputs": [],
   "source": [
    "def shuffle_arrays(\n",
    "    inputs: np.array, targets: np.array, seed: Optional[int] = None\n",
    ") -> Tuple[np.array, np.array]:\n",
    "    \"\"\"\n",
    "    Shuffle the order of exemplars in input and target arrays\n",
    "\n",
    "    This function shuffles the order of the exemplars (observations)\n",
    "    in the data inputs and targets. Each call to this function should\n",
    "    yield a random re-ordering of the rows of the input matrix and a\n",
    "    matching re-ordering of the entries of the targets vector.\n",
    "\n",
    "    Hints:\n",
    "    1. Use numpy's random package. See\n",
    "    https://numpy.org/doc/stable/reference/random/index.html#random-quick-start\n",
    "    2. See e.g. https://numpy.org/doc/stable/reference/random/generated/numpy.random.permutation.html\n",
    "    3. Make sure your function re-orders on the rows of inputs, and preserves\n",
    "    the column order.\n",
    "\n",
    "    Args:\n",
    "        inputs (np.array): A numpy array containing the inputs to the perceptron.\n",
    "                           The inputs are often called \"X\" in notation. If a\n",
    "                           matrix is passed, the rows are assumed to be \"trials\"\n",
    "                           (data examples) and columns are different input dimensions\n",
    "                           x_1, x_2 etc. If a vector is passed, it is assumed to be\n",
    "                           one trial with number of dimensions == len(inputs).\n",
    "        targets (np.array): The correct output labels. Often called \"Y\" in notation.\n",
    "                            There should be one entry per row of X if X is a matrix.\n",
    "        seed (Optional[int], optional): If an integer is provided, this\n",
    "                            will be used as the seed for the random number generator\n",
    "                            to yield deterministic results. If None (the default),\n",
    "                            will use the default behaviour of numpy's random number\n",
    "                            generator.\n",
    "\n",
    "    Returns:\n",
    "        Tuple[np.array, np.array]: A two-element Tuple containing the re-ordered arrays.\n",
    "    \"\"\"\n",
    "    rng_num=np.random.default_rng(seed)\n",
    "    shuffled_num=rng_num.permutation(len(inputs))\n",
    "\n",
    "    return inputs[shuffled_num], targets[shuffled_num]"
   ]
  },
  {
   "cell_type": "code",
   "execution_count": 77,
   "metadata": {},
   "outputs": [
    {
     "name": "stdout",
     "output_type": "stream",
     "text": [
      "test_shuffle_arrays_1 inputs_shuffled is [[5 6 7 8]\n",
      " [1 2 3 4]]\n",
      "\n",
      "test_shuffle_arrays_1 targets_shuffled is [0 1]\n",
      "\n",
      "test_shuffle_arrays_2 inputs_shuffled is [[1 2 3 4]\n",
      " [5 6 7 8]]\n",
      "\n",
      "test_shuffle_arrays_2 targets_shuffled is [1 0]\n",
      "\n",
      "test_shuffle_arrays_3 inputs_shuffled is [[ 9 10 11 12]\n",
      " [ 5  6  7  8]\n",
      " [ 1  2  3  4]]\n",
      "\n",
      "test_shuffle_arrays_3 targets_shuffled is [2 0 1]\n",
      "\n"
     ]
    }
   ],
   "source": [
    "def test_shuffle_arrays_1():\n",
    "    inputs = np.array([[1, 2, 3, 4], [5, 6, 7, 8]])\n",
    "    targets = np.array([1, 0])\n",
    "    inputs_shuffled, targets_shuffled = shuffle_arrays(\n",
    "        inputs=inputs, targets=targets, seed=42\n",
    "    )\n",
    "    test_helper(inputs_shuffled, result_name=\"inputs_shuffled\")\n",
    "    test_helper(targets_shuffled, result_name=\"targets_shuffled\")\n",
    "    assert np.all(inputs_shuffled == np.array([[5, 6, 7, 8], [1, 2, 3, 4]]))\n",
    "    assert np.all(targets_shuffled == np.array([0, 1]))\n",
    "\n",
    "\n",
    "def test_shuffle_arrays_2():\n",
    "    inputs = np.array([[1, 2, 3, 4], [5, 6, 7, 8]])\n",
    "    targets = np.array([1, 0])\n",
    "    # this seed causes no shuffling (same order):\n",
    "    inputs_shuffled, targets_shuffled = shuffle_arrays(\n",
    "        inputs=inputs, targets=targets, seed=1124\n",
    "    )\n",
    "    test_helper(inputs_shuffled, result_name=\"inputs_shuffled\")\n",
    "    test_helper(targets_shuffled, result_name=\"targets_shuffled\")\n",
    "    assert np.all(inputs_shuffled == inputs)\n",
    "    assert np.all(targets_shuffled == targets)\n",
    "\n",
    "\n",
    "def test_shuffle_arrays_3():\n",
    "    inputs = np.array([[1, 2, 3, 4], [5, 6, 7, 8], [9, 10, 11, 12]])\n",
    "    targets = np.array([1, 0, 2])\n",
    "    inputs_shuffled, targets_shuffled = shuffle_arrays(\n",
    "        inputs=inputs, targets=targets, seed=42\n",
    "    )\n",
    "    test_helper(inputs_shuffled, result_name=\"inputs_shuffled\")\n",
    "    test_helper(targets_shuffled, result_name=\"targets_shuffled\")\n",
    "    assert np.all(\n",
    "        inputs_shuffled == np.array(([[9, 10, 11, 12], [5, 6, 7, 8], [1, 2, 3, 4]]))\n",
    "    )\n",
    "    assert np.all(targets_shuffled == np.array([2, 0, 1]))\n",
    "\n",
    "\n",
    "test_shuffle_arrays_1()\n",
    "test_shuffle_arrays_2()\n",
    "test_shuffle_arrays_3()"
   ]
  },
  {
   "attachments": {},
   "cell_type": "markdown",
   "metadata": {},
   "source": [
    "Now that we can shuffle arrays, let's use this function in a new function in which we train multiple epochs:"
   ]
  },
  {
   "cell_type": "code",
   "execution_count": 78,
   "metadata": {},
   "outputs": [],
   "source": [
    "def train_n_epochs(\n",
    "    n_epochs: int,\n",
    "    inputs: np.array,\n",
    "    targets: np.array,\n",
    "    weights: np.array,\n",
    "    bias: float,\n",
    "    verbose: bool = True,\n",
    "    shuffle: bool = True,\n",
    "    seed: Optional[int] = None,\n",
    ") -> Tuple[np.array, float, np.array, float]:\n",
    "    \"\"\"\n",
    "    Train over a number of epochs\n",
    "\n",
    "    This function trains a perceptron over a number of\n",
    "    epochs (iterations over the training data) and returns\n",
    "    the final weights and bias. Optionally the function can\n",
    "    also shuffle the data array on each epoch, to provide\n",
    "    exemplars in a random order.\n",
    "\n",
    "    Args:\n",
    "        n_epochs (int): The number of epochs to iterate over.\n",
    "        inputs (np.array): A numpy array containing the inputs to the perceptron.\n",
    "                           The inputs are often called \"X\" in notation. If a\n",
    "                           matrix is passed, the rows are assumed to be \"trials\"\n",
    "                           (data examples) and columns are different input dimensions\n",
    "                           x_1, x_2 etc. If a vector is passed, it is assumed to be\n",
    "                           one trial with number of dimensions == len(inputs).\n",
    "        targets (np.array): The correct output labels. Often called \"Y\" in notation.\n",
    "                            There should be one entry per row of X if X is a matrix.\n",
    "        weights (np.array): A numpy array containing the Perceptron's weights for each\n",
    "                            input dimension. Should contain one entry per dimension.\n",
    "        bias (float): The value of the Perceptron's bias term. A scalar.\n",
    "        verbose (bool, optional): If True, print information about the results of training,\n",
    "                                including weights and bias at the end of\n",
    "                                the epoch, and also the overall error in the epoch.\n",
    "                                Should also be passed to train_one_epoch.\n",
    "                                Defaults to True.\n",
    "        shuffle (bool, optional): If True, randomly shuffle the order of data exemplars\n",
    "                                on each Epoch separately. Defaults to True.\n",
    "        seed (Optional[int], optional): Passed to the shuffle_arrays function.\n",
    "                            If an integer is provided, this\n",
    "                            will be used as the seed for the random number generator\n",
    "                            to yield deterministic results. If None (the default),\n",
    "                            will use the default behaviour of numpy's random number\n",
    "                            generator.\n",
    "\n",
    "\n",
    "    Returns:\n",
    "        Tuple[np.array, float, np.array, np.array]: The results of training over the epochs (i.e.\n",
    "                                the final result as a Tuple of length 4 containing\n",
    "                                (1) the weights after training,\n",
    "                                (2) the bias after training,\n",
    "                                (3) a vector containing the error rate for each epoch\n",
    "    \"\"\"\n",
    "    error_rates=np.zeros(n_epochs)\n",
    "\n",
    "    for epoch in range(n_epochs):\n",
    "        if shuffle:\n",
    "            inputs,targets= shuffle_arrays(inputs,targets,seed)\n",
    "        \n",
    "        weights, bias,outputs, error_rate=train_one_epoch(inputs,targets, weights, bias, verbose)\n",
    "        error_rates[epoch]=error_rate\n",
    "\n",
    "        if verbose:\n",
    "            print(f'Epoch: {epoch+1}, Error: {error_rate}')\n",
    "        \n",
    "    if verbose:\n",
    "        print(f'Final weights: {weights}')\n",
    "        print(f'Final bias: {bias}')\n",
    "\n",
    "    \n",
    "    return weights, bias, error_rates"
   ]
  },
  {
   "cell_type": "code",
   "execution_count": 79,
   "metadata": {},
   "outputs": [
    {
     "name": "stdout",
     "output_type": "stream",
     "text": [
      "test_train_n_epochs_1 weights is [0.5 1. ]\n",
      "\n",
      "test_train_n_epochs_1 epoch_errors is [1.  0.5 1. ]\n",
      "\n",
      "test_train_n_epochs_2 weights is [1. 1.]\n",
      "\n",
      "test_train_n_epochs_2 epoch_errors is [0.5 0.5 1. ]\n",
      "\n"
     ]
    }
   ],
   "source": [
    "def test_train_n_epochs_1():\n",
    "    inputs = np.array([[1.0, 0.5], [0.5, 0.0]])\n",
    "    targets = np.array([1.0, 0.0])\n",
    "    weights, bias, epoch_errors = train_n_epochs(\n",
    "        n_epochs=3,\n",
    "        inputs=inputs,\n",
    "        targets=targets,\n",
    "        weights=np.array([0.0, 0.0]),\n",
    "        bias=0.0,\n",
    "        verbose=False,\n",
    "        shuffle=False,\n",
    "    )\n",
    "    test_helper(weights, result_name=\"weights\")\n",
    "    test_helper(epoch_errors, result_name=\"epoch_errors\")\n",
    "    assert np.all(weights == np.array([0.5, 1.0]))\n",
    "    assert np.all(epoch_errors == np.array([1.0, 0.5, 1.0]))\n",
    "    assert bias == -1.0\n",
    "\n",
    "\n",
    "def test_train_n_epochs_2():\n",
    "    inputs = np.array([[1.0, 0.5], [0.5, 0.0]])\n",
    "    targets = np.array([1.0, 0.0])\n",
    "    weights, bias, epoch_errors = train_n_epochs(\n",
    "        n_epochs=3,\n",
    "        inputs=inputs,\n",
    "        targets=targets,\n",
    "        weights=np.array([0.0, 0.0]),\n",
    "        bias=0.0,\n",
    "        verbose=False,\n",
    "        shuffle=True,\n",
    "        seed=42,\n",
    "    )\n",
    "    test_helper(weights, result_name=\"weights\")\n",
    "    test_helper(epoch_errors, result_name=\"epoch_errors\")\n",
    "    assert np.all(weights == np.array([1.0, 1.0]))\n",
    "    assert np.all(epoch_errors == np.array([0.5, 0.5, 1.0]))\n",
    "    assert bias == 0.0\n",
    "\n",
    "\n",
    "test_train_n_epochs_1()\n",
    "test_train_n_epochs_2()"
   ]
  },
  {
   "attachments": {},
   "cell_type": "markdown",
   "metadata": {},
   "source": [
    "I provide you with some code below to train 15 independent perceptrons for 10 epochs each on the \"AND\" rule.\n",
    "\n",
    "The error rates in each epoch for each perceptron are stored in a 2D numpy array, where each column is an epoch and each row is one of the 20 perceptrons."
   ]
  },
  {
   "cell_type": "code",
   "execution_count": 80,
   "metadata": {},
   "outputs": [],
   "source": [
    "n_perceptrons = 15\n",
    "n_epochs = 10\n",
    "error_mat = np.empty((n_perceptrons, n_epochs))\n",
    "for p in range(n_perceptrons):\n",
    "    weights, bias, epoch_errors = train_n_epochs(\n",
    "        n_epochs=n_epochs,\n",
    "        inputs=inputs,\n",
    "        targets=targets,\n",
    "        weights=np.array([0.0, 0.0]),\n",
    "        bias=0.0,\n",
    "        verbose=False,\n",
    "        shuffle=True,\n",
    "    )\n",
    "\n",
    "    error_mat[p, :] = epoch_errors"
   ]
  },
  {
   "attachments": {},
   "cell_type": "markdown",
   "metadata": {},
   "source": [
    "Finally, let's plot the learning curves -- error rates as a function of epoch, for each perceptron and the average.\n",
    "I provide a function below to do this:"
   ]
  },
  {
   "cell_type": "code",
   "execution_count": 81,
   "metadata": {},
   "outputs": [],
   "source": [
    "def plot_learning_curve(error_matrix: np.array) -> None:\n",
    "    \"\"\"\n",
    "    A function to plot a set of learning curves\n",
    "\n",
    "    Take a matrix containing error rate as a function\n",
    "    of epoch for each of n perceptrons, and draw a plot\n",
    "    where each perceptron is a semitransparent grey line\n",
    "    and the average performance is shown in blue.\n",
    "\n",
    "    Args:\n",
    "        error_matrix (np.array): A matrix containing the\n",
    "                error rates of perceptron(s) as a function\n",
    "                of epoch, with epochs in columns and each\n",
    "                independent perceptron in rows.\n",
    "    \"\"\"\n",
    "    ax = plt.axes()\n",
    "    x = np.arange(1, error_matrix.shape[1] + 1)\n",
    "\n",
    "    for p in range(error_matrix.shape[0]):\n",
    "        ax.plot(x, error_mat[p, :], color=\"0.5\", alpha=0.25)\n",
    "\n",
    "    ax.plot(x, error_mat.mean(axis=0), color=\"b\")\n",
    "    ax.set_xlabel(\"Epoch\")\n",
    "    ax.set_ylabel(\"Error rate\")\n",
    "    ax.set_ylim(-0.1, 1.1)"
   ]
  },
  {
   "cell_type": "code",
   "execution_count": 82,
   "metadata": {},
   "outputs": [
    {
     "data": {
      "image/png": "[encoded data removed]",
      "text/plain": [
       "<Figure size 432x288 with 1 Axes>"
      ]
     },
     "metadata": {
      "needs_background": "light"
     },
     "output_type": "display_data"
    }
   ],
   "source": [
    "plot_learning_curve(error_mat)"
   ]
  },
  {
   "attachments": {},
   "cell_type": "markdown",
   "metadata": {},
   "source": [
    "## Task 4 - Experiments with the Perceptron\n",
    "\n",
    "Now, we want to see whether the perceptron learns and performs similarly to humans in a categorisation task. \n",
    "\n",
    "In the following, an experiment by Medin and Schwanenflugel (1981) will be described. The paper can be downloaded from Moodle. The main focus is on experiment 1 in the paper. "
   ]
  },
  {
   "attachments": {},
   "cell_type": "markdown",
   "metadata": {},
   "source": [
    "### Task 4.1\n",
    "\n",
    "Describe the hypothesis that was developed and tested with experiment 1."
   ]
  },
  {
   "attachments": {},
   "cell_type": "markdown",
   "metadata": {},
   "source": [
    "*write your answer in this cell*"
   ]
  },
  {
   "attachments": {},
   "cell_type": "markdown",
   "metadata": {},
   "source": [
    "### Task 4.2\n",
    "\n",
    "Describe the experiment set-up and procedure of experiment 1. How many participants were there? What was their task? How many trials did they do? What was measured?"
   ]
  },
  {
   "attachments": {},
   "cell_type": "markdown",
   "metadata": {},
   "source": [
    "*write your answer in this cell*"
   ]
  },
  {
   "attachments": {},
   "cell_type": "markdown",
   "metadata": {},
   "source": [
    "### Task 4.3\n",
    "\n",
    "Describe the stimuli used in experiment 1. How exactly do the stimuli differ and what do they look like? "
   ]
  },
  {
   "attachments": {},
   "cell_type": "markdown",
   "metadata": {},
   "source": [
    "*write your answer in this cell*"
   ]
  },
  {
   "attachments": {},
   "cell_type": "markdown",
   "metadata": {},
   "source": [
    "The stimuli from experiment 1 are shown again here. These tables correspond exactly to the tables shown in the paper."
   ]
  },
  {
   "cell_type": "markdown",
   "metadata": {},
   "source": [
    "<h3>Class 1 - Linearly Separable</h3>\n",
    "<br><br>\n",
    "\n",
    "<div style=\"margin: 1; cellspacing:10; width: 800px; display: block;\">\t\t\t\t\t\t\n",
    "<table style=\"float:left; width:390px;\">\n",
    "  <tr>\n",
    "    <th class=\"tg-031e\" colspan=\"5\"><center>CATEGORY A</center><br></th>\n",
    "  </tr>\n",
    "  <tr>\n",
    "    <th class=\"tg-031e\"></th>\n",
    "    <th class=\"tg-031e\" colspan=\"4\"><center>Dimensions</center></th>\n",
    "  </tr>\n",
    "  <tr>\n",
    "    <td class=\"tg-031e\"><center><b>Exemplar</b></center></td>\n",
    "    <td class=\"tg-031e\" colspan=\"4\"></td>\n",
    "  </tr>\n",
    "  <tr>\n",
    "    <td class=\"tg-031e\"></td>\n",
    "    <td class=\"tg-031e\"><center><b>D1</b></center></td>\n",
    "    <td class=\"tg-031e\"><center><b>D2</b></center></td>\n",
    "    <td class=\"tg-031e\"><center><b>D3</b></center></td>\n",
    "    <td class=\"tg-s6z2\"><center><b>D4</b></center></td>\n",
    "  </tr>\n",
    "  <tr>\n",
    "    <td class=\"tg-031e\"><center><b>A1</b></center></td>\n",
    "    <td class=\"tg-031e\"><center>1</center></td>\n",
    "    <td class=\"tg-031e\"><center>0</center></td>\n",
    "    <td class=\"tg-031e\"><center>1</center></td>\n",
    "    <td class=\"tg-s6z2\"><center>1</center></td>\n",
    "  </tr>\n",
    "  <tr>\n",
    "    <td class=\"tg-031e\"><center><b>A2</b></center></td>\n",
    "    <td class=\"tg-031e\"><center>1</center></td>\n",
    "    <td class=\"tg-031e\"><center>0</center></td>\n",
    "    <td class=\"tg-031e\"><center>1</center></td>\n",
    "    <td class=\"tg-s6z2\"><center>0</center></td>\n",
    "  </tr>\n",
    "  <tr>\n",
    "    <td class=\"tg-031e\"><center><b>A3</b></center></td>\n",
    "    <td class=\"tg-031e\"><center>1</center></td>\n",
    "    <td class=\"tg-031e\"><center>1</center></td>\n",
    "    <td class=\"tg-031e\"><center>0</center></td>\n",
    "    <td class=\"tg-s6z2\"><center>1</center></td>\n",
    "  </tr>\n",
    "  <tr>\n",
    "    <td class=\"tg-031e\"><center><b>A4</b></center></td>\n",
    "    <td class=\"tg-031e\"><center>0</center></td>\n",
    "    <td class=\"tg-031e\"><center>1</center></td>\n",
    "    <td class=\"tg-031e\"><center>1</center></td>\n",
    "    <td class=\"tg-s6z2\"><center>0</center></td>\n",
    "  </tr>\n",
    "</table>\n",
    "</div>\n",
    "<div style=\"margin: 1;  cellspacing:10; width: 800px; display: block;\">\t\n",
    "  <table style=\"float:right; width:390px;\">\n",
    "    <tr>\n",
    "    <th class=\"tg-031e\" colspan=\"5\"><center>CATEGORY B</center><br></th>\n",
    "  </tr>\n",
    "  <tr>\n",
    "    <th class=\"tg-031e\"></th>\n",
    "    <th class=\"tg-031e\" colspan=\"4\"><center>Dimensions</center></th>\n",
    "  </tr>\n",
    "  <tr>\n",
    "    <td class=\"tg-031e\"><center><b>Exemplar</b></center></td>\n",
    "    <td class=\"tg-031e\" colspan=\"4\"></td>\n",
    "  </tr>\n",
    "  <tr>\n",
    "    <td class=\"tg-031e\"></td>\n",
    "    <td class=\"tg-031e\"><center><b>D1</b></center></td>\n",
    "    <td class=\"tg-031e\"><center><b>D2</b></center></td>\n",
    "    <td class=\"tg-031e\"><center><b>D3</b></center></td>\n",
    "    <td class=\"tg-s6z2\"><center><b>D4</b></center></td>\n",
    "  </tr>\n",
    "  <tr>\n",
    "    <td class=\"tg-031e\"><center><b>B1</b></center></td>\n",
    "    <td class=\"tg-031e\"><center>1</center></td>\n",
    "    <td class=\"tg-031e\"><center>0</center></td>\n",
    "    <td class=\"tg-031e\"><center>0</center></td>\n",
    "    <td class=\"tg-s6z2\"><center>1</center></td>\n",
    "  </tr>\n",
    "  <tr>\n",
    "    <td class=\"tg-031e\"><center><b>B2</b></center></td>\n",
    "    <td class=\"tg-031e\"><center>0</center></td>\n",
    "    <td class=\"tg-031e\"><center>0</center></td>\n",
    "    <td class=\"tg-031e\"><center>1</center></td>\n",
    "    <td class=\"tg-s6z2\"><center>0</center></td>\n",
    "  </tr>\n",
    "  <tr>\n",
    "    <td class=\"tg-031e\"><center><b>B3</b></center></td>\n",
    "    <td class=\"tg-031e\"><center>0</center></td>\n",
    "    <td class=\"tg-031e\"><center>1</center></td>\n",
    "    <td class=\"tg-031e\"><center>0</center></td>\n",
    "    <td class=\"tg-s6z2\"><center>0</center></td>\n",
    "  </tr>\n",
    "  <tr>\n",
    "    <td class=\"tg-031e\"><center><b>B4</b></center></td>\n",
    "    <td class=\"tg-031e\"><center>0</center></td>\n",
    "    <td class=\"tg-031e\"><center>0</center></td>\n",
    "    <td class=\"tg-031e\"><center>0</center></td>\n",
    "    <td class=\"tg-s6z2\"><center>1</center></td>\n",
    "  </tr>\n",
    "</table>\n",
    "</div>"
   ]
  },
  {
   "cell_type": "markdown",
   "metadata": {},
   "source": [
    "<h3>Class 2 - Not Linearly Separable</h3>\n",
    "<br><br>\n",
    "\n",
    "<div style=\"margin: 1; cellspacing:10; width: 800px; display: block;\">\t\t\t\t\t\t\n",
    "<table style=\"float:left; width:390px;\">\n",
    "  <tr>\n",
    "    <th class=\"tg-031e\" colspan=\"5\"><center>CATEGORY A</center><br></th>\n",
    "  </tr>\n",
    "  <tr>\n",
    "    <th class=\"tg-031e\"></th>\n",
    "    <th class=\"tg-031e\" colspan=\"4\"><center>Dimensions</center></th>\n",
    "  </tr>\n",
    "  <tr>\n",
    "    <td class=\"tg-031e\"><center><b>Exemplar</b></center></td>\n",
    "    <td class=\"tg-031e\" colspan=\"4\"></td>\n",
    "  </tr>\n",
    "  <tr>\n",
    "    <td class=\"tg-031e\"></td>\n",
    "    <td class=\"tg-031e\"><center><b>D1</b></center></td>\n",
    "    <td class=\"tg-031e\"><center><b>D2</b></center></td>\n",
    "    <td class=\"tg-031e\"><center><b>D3</b></center></td>\n",
    "    <td class=\"tg-s6z2\"><center><b>D4</b></center></td>\n",
    "  </tr>\n",
    "  <tr>\n",
    "    <td class=\"tg-031e\"><center><b>A1</b></center></td>\n",
    "    <td class=\"tg-031e\"><center>1</center></td>\n",
    "    <td class=\"tg-031e\"><center>0</center></td>\n",
    "    <td class=\"tg-031e\"><center>0</center></td>\n",
    "    <td class=\"tg-s6z2\"><center>0</center></td>\n",
    "  </tr>\n",
    "  <tr>\n",
    "    <td class=\"tg-031e\"><center><b>A2</b></center></td>\n",
    "    <td class=\"tg-031e\"><center>0</center></td>\n",
    "    <td class=\"tg-031e\"><center>1</center></td>\n",
    "    <td class=\"tg-031e\"><center>1</center></td>\n",
    "    <td class=\"tg-s6z2\"><center>1</center></td>\n",
    "  </tr>\n",
    "  <tr>\n",
    "    <td class=\"tg-031e\"><center><b>A3</b></center></td>\n",
    "    <td class=\"tg-031e\"><center>1</center></td>\n",
    "    <td class=\"tg-031e\"><center>1</center></td>\n",
    "    <td class=\"tg-031e\"><center>1</center></td>\n",
    "    <td class=\"tg-s6z2\"><center>0</center></td>\n",
    "  </tr>\n",
    "  <tr>\n",
    "    <td class=\"tg-031e\"><center><b>A4</b></center></td>\n",
    "    <td class=\"tg-031e\"><center>1</center></td>\n",
    "    <td class=\"tg-031e\"><center>0</center></td>\n",
    "    <td class=\"tg-031e\"><center>1</center></td>\n",
    "    <td class=\"tg-s6z2\"><center>1</center></td>\n",
    "  </tr>\n",
    "</table>\n",
    "</div>\n",
    "<div style=\"margin: 1;  cellspacing:10; width: 800px; display: block;\">\t\n",
    "  <table style=\"float:right; width:390px;\">\n",
    "    <tr>\n",
    "    <th class=\"tg-031e\" colspan=\"5\"><center>CATEGORY B</center><br></th>\n",
    "  </tr>\n",
    "  <tr>\n",
    "    <th class=\"tg-031e\"></th>\n",
    "    <th class=\"tg-031e\" colspan=\"4\"><center>Dimensions</center></th>\n",
    "  </tr>\n",
    "  <tr>\n",
    "    <td class=\"tg-031e\"><center><b>Exemplar</b></center></td>\n",
    "    <td class=\"tg-031e\" colspan=\"4\"></td>\n",
    "  </tr>\n",
    "  <tr>\n",
    "    <td class=\"tg-031e\"></td>\n",
    "    <td class=\"tg-031e\"><center><b>D1</b></center></td>\n",
    "    <td class=\"tg-031e\"><center><b>D2</b></center></td>\n",
    "    <td class=\"tg-031e\"><center><b>D3</b></center></td>\n",
    "    <td class=\"tg-s6z2\"><center><b>D4</b></center></td>\n",
    "  </tr>\n",
    "  <tr>\n",
    "    <td class=\"tg-031e\"><center><b>B1</b></center></td>\n",
    "    <td class=\"tg-031e\"><center>0</center></td>\n",
    "    <td class=\"tg-031e\"><center>1</center></td>\n",
    "    <td class=\"tg-031e\"><center>1</center></td>\n",
    "    <td class=\"tg-s6z2\"><center>0</center></td>\n",
    "  </tr>\n",
    "  <tr>\n",
    "    <td class=\"tg-031e\"><center><b>B2</b></center></td>\n",
    "    <td class=\"tg-031e\"><center>1</center></td>\n",
    "    <td class=\"tg-031e\"><center>0</center></td>\n",
    "    <td class=\"tg-031e\"><center>0</center></td>\n",
    "    <td class=\"tg-s6z2\"><center>1</center></td>\n",
    "  </tr>\n",
    "  <tr>\n",
    "    <td class=\"tg-031e\"><center><b>B3</b></center></td>\n",
    "    <td class=\"tg-031e\"><center>0</center></td>\n",
    "    <td class=\"tg-031e\"><center>0</center></td>\n",
    "    <td class=\"tg-031e\"><center>0</center></td>\n",
    "    <td class=\"tg-s6z2\"><center>0</center></td>\n",
    "  </tr>\n",
    "  <tr>\n",
    "    <td class=\"tg-031e\"><center><b>B4</b></center></td>\n",
    "    <td class=\"tg-031e\"><center>0</center></td>\n",
    "    <td class=\"tg-031e\"><center>0</center></td>\n",
    "    <td class=\"tg-031e\"><center>0</center></td>\n",
    "    <td class=\"tg-s6z2\"><center>1</center></td>\n",
    "  </tr>\n",
    "</table>\n",
    "</div>"
   ]
  },
  {
   "attachments": {},
   "cell_type": "markdown",
   "metadata": {},
   "source": [
    "### Task 4.4\n",
    "\n",
    "Extract the stimuli shown in the tables from experiment 1 so that they can be used in the following."
   ]
  },
  {
   "cell_type": "code",
   "execution_count": 83,
   "metadata": {},
   "outputs": [],
   "source": [
    "# enter your data variables here.\n",
    "# ls=linear seperable \n",
    "inputs_ls = np.array([[1,0,1,1],[1,0,1,0],[1,1,0,1],[0,1,1,0],[1,0,0,1],[0,0,1,0],[0,1,0,0],[0,0,0,1]])\n",
    "targets_ls = np.array([1,1,1,1,0,0,0,0])\n",
    "inputs_nls = np.array([[1,0,0,0],[0,1,1,1],[1,1,1,0],[1,0,1,1],[0,1,1,0],[1,0,0,1],[0,0,0,0],[0,0,0,1]])\n",
    "targets_nls = np.array([1,1,1,1,0,0,0,0])"
   ]
  },
  {
   "attachments": {},
   "cell_type": "markdown",
   "metadata": {},
   "source": [
    "### Task 4.5\n",
    "\n",
    "Use the stimuli to train Perceptrons on the linearly separable class (Class 1). Make use of the functions you defined above.\n",
    "\n",
    "Train the Perceptrons as the participants were trained in the study by Medin and Schwanenflugel (1981):\n",
    "\n",
    "1. Set the number of epochs according to the experiment. \n",
    "2. Train the same number of perceptrons as there were participants. \n",
    "3. Present the exemplars in a random order."
   ]
  },
  {
   "cell_type": "code",
   "execution_count": 84,
   "metadata": {},
   "outputs": [],
   "source": [
    "# write your code here\n",
    "\n",
    "n_perceptrons=32\n",
    "n_epochs=16\n",
    "\n",
    "error_mat=np.empty((n_perceptrons, n_epochs))\n",
    "\n",
    "for p in range(n_perceptrons):\n",
    "    weights, bias, epoch_errors=train_n_epochs(\n",
    "        n_epochs=n_epochs,\n",
    "        inputs=inputs_ls,\n",
    "        targets=targets_ls,\n",
    "        weights=np.array([0.0,0.0,0.0,0.0]),\n",
    "        bias=0.0,\n",
    "        verbose=False,\n",
    "        shuffle=True\n",
    "    )\n",
    "\n",
    "    error_mat[p, :]=epoch_errors"
   ]
  },
  {
   "attachments": {},
   "cell_type": "markdown",
   "metadata": {},
   "source": [
    "Now, visualise the learning curves of the perceptrons in this experiment."
   ]
  },
  {
   "cell_type": "code",
   "execution_count": 85,
   "metadata": {},
   "outputs": [
    {
     "data": {
      "image/png": "[encoded data removed]",
      "text/plain": [
       "<Figure size 432x288 with 1 Axes>"
      ]
     },
     "metadata": {
      "needs_background": "light"
     },
     "output_type": "display_data"
    }
   ],
   "source": [
    "plot_learning_curve(error_mat)"
   ]
  },
  {
   "attachments": {},
   "cell_type": "markdown",
   "metadata": {},
   "source": [
    "### Task 4.6\n",
    "\n",
    "Repeat Task 4.5 with the *non-* linearly separable class (Class 2). "
   ]
  },
  {
   "cell_type": "code",
   "execution_count": 86,
   "metadata": {},
   "outputs": [],
   "source": [
    "# write your code here\n",
    "\n",
    "n_perceptrons= 32\n",
    "n_epochs= 16\n",
    "\n",
    "error_mat=np.empty((n_perceptrons,n_epochs))\n",
    "\n",
    "for p in range(n_perceptrons):\n",
    "    weights, bias, epoch_errors =train_n_epochs(\n",
    "        n_epochs=n_epochs,\n",
    "        inputs=inputs_nls,\n",
    "        targets=targets_nls,\n",
    "        weights=np.array([0.0, 0.0, 0.0,0.0]),\n",
    "        bias=0.0,\n",
    "        verbose=False,\n",
    "        shuffle=True\n",
    "    )\n",
    "    error_mat[p, :]=epoch_errors"
   ]
  },
  {
   "cell_type": "code",
   "execution_count": 87,
   "metadata": {},
   "outputs": [
    {
     "data": {
      "image/png": "[encoded data removed]",
      "text/plain": [
       "<Figure size 432x288 with 1 Axes>"
      ]
     },
     "metadata": {
      "needs_background": "light"
     },
     "output_type": "display_data"
    }
   ],
   "source": [
    "plot_learning_curve(error_mat)"
   ]
  },
  {
   "attachments": {},
   "cell_type": "markdown",
   "metadata": {},
   "source": [
    "## Task 5 - Results\n",
    "\n",
    "Summarise the results of your Perceptron experiment. What did you notice? Can you compare the performance (error rate) with that of the study? Why or why not? \n",
    "\n",
    "Discuss and interpret the observations you made during the experiment."
   ]
  },
  {
   "attachments": {},
   "cell_type": "markdown",
   "metadata": {},
   "source": [
    "*write your answer in this cell*"
   ]
  },
  {
   "attachments": {},
   "cell_type": "markdown",
   "metadata": {},
   "source": [
    "## Task 6 - Further thinking\n",
    "\n",
    "Finally, think about the following questions:\n",
    "\n",
    "Is the perceptron a good model for human category learning? Why? Why not? \n",
    "\n",
    "Is the way the perceptron learns the logical rule AND the same as humans? "
   ]
  },
  {
   "attachments": {},
   "cell_type": "markdown",
   "metadata": {},
   "source": [
    "*write your answer in this cell*"
   ]
  }
 ],
 "metadata": {
  "kernelspec": {
   "display_name": "Python 3",
   "language": "python",
   "name": "python3"
  },
  "language_info": {
   "codemirror_mode": {
    "name": "ipython",
    "version": 3
   },
   "file_extension": ".py",
   "mimetype": "text/x-python",
   "name": "python",
   "nbconvert_exporter": "python",
   "pygments_lexer": "ipython3",
   "version": "3.10.9"
  },
  "vscode": {
   "interpreter": {
    "hash": "64d8f8ddf8f4f42b3f98df9f0467513fa996b6069206560ad6267624daa58957"
   }
  }
 },
 "nbformat": 4,
 "nbformat_minor": 2
}
